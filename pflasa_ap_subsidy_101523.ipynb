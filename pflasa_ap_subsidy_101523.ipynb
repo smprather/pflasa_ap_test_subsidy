import numpy as np

j = [int(x)+5 for x in np.random.normal(0, 0.8, 386)]
s = [int(x+4.0) for x in np.random.normal(0, 0.8, 280)]

print(f"Junior average = {np.average(j)}")
print(f"Senior average = {np.average(s)}")

import matplotlib.pyplot as plt

x=[0,435,0,0,0,0,0,0,0]

for y in (j+s):
    x[y]+=1

budget = x[1]*10 + x[2]*20 + (x[3] + x[4] + x[5] +x[6] + x[7] + x[8])*30

print(f"Number of students taking number of tests: {x}")
print(f"Total budget = {budget}")

plt.hist(j, bins=3)
plt.title("Junior Number tests")
plt.show()
plt.hist(s, bins=3)
plt.title("Senior Number tests")
